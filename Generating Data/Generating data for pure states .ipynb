{
 "cells": [
  {
   "cell_type": "code",
   "execution_count": 1,
   "id": "a5421d13-1e12-4224-a7f6-7ef7dcd569f4",
   "metadata": {},
   "outputs": [],
   "source": [
    "number_iteration=10000\n",
    "J1=0.5\n",
    "J2=J1;"
   ]
  },
  {
   "cell_type": "code",
   "execution_count": 2,
   "id": "f688649f-0333-460e-b3dc-d7912863d44a",
   "metadata": {},
   "outputs": [],
   "source": [
    "# Quantum mechanics\n",
    "from qutip import *\n",
    "# Core libraries\n",
    "import numpy as np\n",
    "import pandas as pd\n",
    "import random\n",
    "import random as ra\n",
    "# Machine learning - TensorFlow/Keras\n",
    "import tensorflow as tf\n",
    "from tensorflow.keras.models import Sequential\n",
    "from tensorflow.keras.layers import Dense\n",
    "from tensorflow.keras.callbacks import EarlyStopping\n",
    "# Machine learning - Scikit-learn\n",
    "from sklearn.model_selection import train_test_split \n",
    "from sklearn.ensemble import (\n",
    "    RandomForestRegressor,\n",
    "    BaggingRegressor,\n",
    "    GradientBoostingRegressor,\n",
    "    ExtraTreesRegressor\n",
    ")\n",
    "from sklearn.neural_network import MLPRegressor\n",
    "from sklearn.preprocessing import StandardScaler, PolynomialFeatures\n",
    "from sklearn.metrics import mean_squared_error, mean_absolute_error, r2_score\n",
    "from sklearn.linear_model import LinearRegression\n",
    "# Other ML libraries\n",
    "import xgboost as xgb\n",
    "from catboost import CatBoostRegressor \n",
    "# Plotting\n",
    "import matplotlib.pyplot as plt\n",
    "from mpl_toolkits.mplot3d import Axes3D\n",
    "import matplotlib\n",
    "# Utilities\n",
    "from collections import OrderedDict"
   ]
  },
  {
   "cell_type": "code",
   "execution_count": 3,
   "id": "1a791bc9-5e10-4a35-8ab4-376b1f1fb978",
   "metadata": {},
   "outputs": [],
   "source": [
    "def Negativity(ρ):\n",
    "    return round(abs(negativity(ρ,0)),7)\n",
    "def Positioned_α(Dim_1,Dim_2):\n",
    "    n=[0, 1, 0.5, 0.5]\n",
    "    λ = [random.choice(n) for i in range(Dim_1*Dim_2)]\n",
    "    μ=0; σ=1; a=0; b=1; G=1; U=0; \n",
    "    α=[G*(λ[i]*np.random.normal(μ,σ)+(1-λ[i])*1j*np.random.normal(μ,σ))+U*(λ[i]*ra.uniform(a,b)+(1-λ[i])*1j*ra.uniform(a,b)) for i in range(Dim_1*Dim_2)]\n",
    "    return α\n",
    "\n",
    "def Positioned_state(α,Basis,index,number_iteration):\n",
    "    N=len(Basis)\n",
    "    values = [0] * N\n",
    "    # Randomly choose two unique positions\n",
    "    R=(index/number_iteration)*N  \n",
    "    positions = random.sample(range(N), round(R+0.5))\n",
    "    \n",
    "    for pos in positions:\n",
    "        values[pos] = 1\n",
    "    S=sum([values[i]*α[i]*Basis[i] for i in range(N)])\n",
    "    return S#.unit()"
   ]
  },
  {
   "cell_type": "code",
   "execution_count": 4,
   "id": "62dbe861-7871-4f9f-9bff-2615840f7adb",
   "metadata": {},
   "outputs": [],
   "source": [
    "#############################################################################################################################"
   ]
  },
  {
   "cell_type": "code",
   "execution_count": 5,
   "id": "8b891803-b0ba-43d3-9a95-60075aaeb2f1",
   "metadata": {},
   "outputs": [],
   "source": [
    "\n",
    "                            #This code is for generating random states and evaluating their (Entanglemnt)\n",
    "#Concurrence and expectation  values for the states as  features\n",
    "def create_states(J1,J2,number_iteration):\n",
    "    Features={}\n",
    "    Dim_1=int(2*J1+1); Dim_2=int(2*J2+1); \n",
    "    number_features=Dim_1*Dim_2\n",
    "    #Features['J1']=[]; Features['J2']=[]; \n",
    "    for i in range(number_features):\n",
    "        Features['α_'+str(i+1)+'_re']=[]\n",
    "        #Features['α_'+str(i+1)+'_im']=[]\n",
    "    Features['N']=[]\n",
    "    R1=0.9; R2=0.05;     # R1 controls seperate and partially entanglemnt states. R2 controls partially and maximum entangled states\n",
    "    for r in range(1,number_iteration):\n",
    "        if r<=R1*number_iteration:\n",
    "            μ=0; σ=1; a=0; b=1; G=0; U=1; R=0;        #U for uniform distribution, G for gauss distribution,  R for real parts\n",
    "            α=[G*(np.random.normal(μ,σ)+R*1j*np.random.normal(μ,σ))+U*(ra.uniform(a,b)+R*1j*ra.uniform(a,b)) for i in range(Dim_1*Dim_2)]\n",
    "            #α=Positioned_α(Dim_1,Dim_2)   #To mix the amplitudes to be real or pure imaginary or mix\n",
    "            Basis=[tensor(basis(Dim_1,i),basis(Dim_2,j)) for i in range(Dim_1) for j in range(Dim_2)]\n",
    "            ψ=Positioned_state(α,Basis,r,number_iteration).unit()\n",
    "            #ψ=sum([α[k]*Basis[k] for k in range(len(α))]).unit()\n",
    "            #Features['J1'].append(J1); Features['J2'].append(J2); \n",
    "            for i in range(number_features):\n",
    "                Features['α_'+str(i+1)+'_re'].append(((Basis[i]*ψ.dag()).tr()).real)\n",
    "                #Features['α_'+str(i+1)+'_im'].append(((Basis[i]*ψ.dag()).tr()).imag)\n",
    "            Features['N'].append(Negativity(ket2dm(ψ))/max(J1,J2))\n",
    "            \n",
    "        elif r>R1*number_iteration and r<=(R1+R2)*number_iteration: \n",
    "            Basis=[tensor(basis(Dim_1,i),basis(Dim_2,j)) for i in range(Dim_1) for j in range(Dim_2)]\n",
    "            ψ=sum([ra.uniform(0,1)*tensor(basis(Dim_1,i),basis(Dim_2,i)) for i in range(Dim_1)]).unit()\n",
    "            for i in range(number_features):\n",
    "                Features['α_'+str(i+1)+'_re'].append(((Basis[i]*ψ.dag()).tr()).real)\n",
    "                #Features['α_'+str(i+1)+'_im'].append(((Basis[i]*ψ.dag()).tr()).imag)\n",
    "            Features['N'].append(Negativity(ket2dm(ψ))/max(J1,J2))\n",
    "        else:\n",
    "            Basis=[tensor(basis(Dim_1,i),basis(Dim_2,j)) for i in range(Dim_1) for j in range(Dim_2)]\n",
    "            s=ra.uniform(0,np.pi/2); \n",
    "            ψ=(np.cos(s)*tensor(basis(Dim_1,0),basis(Dim_2,0))+np.sin(s)*tensor(basis(Dim_1,Dim_1-1),basis(Dim_2,Dim_2-1))).unit()\n",
    "            for i in range(number_features):\n",
    "                Features['α_'+str(i+1)+'_re'].append(((Basis[i]*ψ.dag()).tr()).real)\n",
    "                #Features['α_'+str(i+1)+'_im'].append(((Basis[i]*ψ.dag()).tr()).imag)\n",
    "            Features['N'].append(Negativity(ket2dm(ψ))/max(J1,J2))\n",
    "    return Features"
   ]
  },
  {
   "cell_type": "code",
   "execution_count": 6,
   "id": "334ca259-2fd1-4e36-b627-d50a48436bd4",
   "metadata": {},
   "outputs": [],
   "source": [
    "All_data=pd.DataFrame(create_states(J1,J2,number_iteration))\n",
    "All_data=All_data.dropna()\n",
    "All_data.to_csv('Pure states training for '+str(J1)+'.csv')"
   ]
  },
  {
   "cell_type": "code",
   "execution_count": 7,
   "id": "be615c40-ff9c-4f02-b6d7-d3fdcf8365fe",
   "metadata": {},
   "outputs": [
    {
     "data": {
      "image/png": "[encoded data removed]",
      "text/plain": [
       "<Figure size 640x480 with 1 Axes>"
      ]
     },
     "metadata": {},
     "output_type": "display_data"
    }
   ],
   "source": [
    "bins = [i/300 for i in range(0,301)]\n",
    "plt.hist(All_data['N'], bins, edgecolor='black')  # 'bins' can be adjusted\n",
    "plt.title('Histogram of Data')\n",
    "plt.xlabel('Value of Entanglement')\n",
    "plt.ylabel('Frequency')\n",
    "plt.show()"
   ]
  },
  {
   "cell_type": "code",
   "execution_count": 8,
   "id": "539cdef8-9d25-4ec3-a455-180f9c4db318",
   "metadata": {},
   "outputs": [],
   "source": [
    "########################################################################################################################"
   ]
  },
  {
   "cell_type": "code",
   "execution_count": 9,
   "id": "546a4010-0532-459a-b5ef-aefa4352c58c",
   "metadata": {},
   "outputs": [],
   "source": [
    "\n",
    "                            #This code is for generating pure states and evaluating their (Entanglemnt)\n",
    "\n",
    "def pure_states(J1,J2,number_iteration):\n",
    "    Features={}\n",
    "    Dim_1=int(2*J1+1); Dim_2=int(2*J2+1); \n",
    "    number_features=Dim_1*Dim_2\n",
    "    #Features['J1']=[]; Features['J2']=[]; \n",
    "    for i in range(number_features):\n",
    "        Features['α_'+str(i+1)+'_re']=[]\n",
    "        #Features['α_'+str(i+1)+'_im']=[]\n",
    "    Features['N']=[]   #number_iteration\n",
    "\n",
    "    zero_op = Qobj(np.zeros((Dim_1, Dim_2)))\n",
    "    \n",
    "    for α in np.linspace(0,np.pi/2,number_iteration):\n",
    "        Basis=[tensor(basis(Dim_1,i),basis(Dim_2,j)) for i in range(Dim_1) for j in range(Dim_2)]\n",
    "        ψ=(np.cos(α)*tensor(basis(Dim_1,0),basis(Dim_2,0))+np.sin(α)*tensor(basis(Dim_1,Dim_1-1),basis(Dim_2,Dim_2-1))).unit()\n",
    "        ρ=ket2dm(ψ)\n",
    "        \n",
    "        #Features['J1'].append(J1); Features['J2'].append(J2); \n",
    "        for i in range(number_features):\n",
    "            Features['α_'+str(i+1)+'_re'].append(((Basis[i]*ψ.dag()).tr()).real)\n",
    "            #Features['α_'+str(i+1)+'_im'].append(((Basis[i]*ψ.dag()).tr()).imag)\n",
    "        Features['N'].append(Negativity(ket2dm(ψ))/max(J1,J2))\n",
    "    return Features\n"
   ]
  },
  {
   "cell_type": "code",
   "execution_count": 10,
   "id": "5a663196-21d1-4398-8b56-55ca2317e6a5",
   "metadata": {},
   "outputs": [],
   "source": [
    "tested_data=pd.DataFrame(pure_states(J1,J2,number_iteration))\n",
    "tested_data=tested_data.dropna()\n",
    "tested_data.to_csv('Pure states tested for '+str(J1)+'.csv')"
   ]
  },
  {
   "cell_type": "code",
   "execution_count": null,
   "id": "7f17171c-fdc5-4224-9bd4-540e59a1acad",
   "metadata": {},
   "outputs": [],
   "source": []
  }
 ],
 "metadata": {
  "kernelspec": {
   "display_name": "Python 3 (ipykernel)",
   "language": "python",
   "name": "python3"
  },
  "language_info": {
   "codemirror_mode": {
    "name": "ipython",
    "version": 3
   },
   "file_extension": ".py",
   "mimetype": "text/x-python",
   "name": "python",
   "nbconvert_exporter": "python",
   "pygments_lexer": "ipython3",
   "version": "3.12.7"
  }
 },
 "nbformat": 4,
 "nbformat_minor": 5
}
